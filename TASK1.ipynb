{
  "nbformat": 4,
  "nbformat_minor": 0,
  "metadata": {
    "colab": {
      "name": "TASK1",
      "provenance": [],
      "authorship_tag": "ABX9TyN2jtESb8J9jmkXSiaRaiuD",
      "include_colab_link": true
    },
    "kernelspec": {
      "name": "python3",
      "display_name": "Python 3"
    },
    "language_info": {
      "name": "python"
    }
  },
  "cells": [
    {
      "cell_type": "markdown",
      "metadata": {
        "id": "view-in-github",
        "colab_type": "text"
      },
      "source": [
        "<a href=\"https://colab.research.google.com/github/M-Ramya/C/blob/main/TASK1.ipynb\" target=\"_parent\"><img src=\"https://colab.research.google.com/assets/colab-badge.svg\" alt=\"Open In Colab\"/></a>"
      ]
    },
    {
      "cell_type": "code",
      "metadata": {
        "id": "g5nobR2GuSSS"
      },
      "source": [
        "import pyttsx3 #pip install pyttsx3==2.6\n",
        "import datetime\n",
        "import time\n",
        "from win10toast import ToastNotifier#pip install win10toast\n",
        "toaster = ToastNotifier()\n",
        "\n",
        "\n",
        "engine = pyttsx3.init('sapi5')\n",
        "voices = engine.getProperty('voices')\n",
        "# print(voices[1].id)\n",
        "engine.setProperty('voice', voices[1].id)\n",
        "\n",
        "\n",
        "def speak(audio):\n",
        "    engine.say(audio)\n",
        "    engine.runAndWait()\n",
        "\n",
        "\n",
        "def nowtime():\n",
        "    strTime = datetime.datetime.now().strftime(\"%H\") \n",
        "    return strTime\n",
        "nowtime=nowtime()\n",
        "#print(nowtime)\n",
        "\n",
        "\n",
        "query = {\n",
        "    \n",
        " \"brush\":6 ,\n",
        "  \"Take bath\":7,\n",
        "  \"Do Yoga\":8,\n",
        "  \"have your breakfast \":9,\n",
        "  \"Be prepared for your online classes\":10,\n",
        "  \"take your lunch\":12,\n",
        "  \"take rest\":13,\n",
        "  \"Water Plants\":16,\n",
        "  \"help Mom\":18,\n",
        "  \"Time to Study\":19,\n",
        "  \"Have Dinner\":20,\n",
        "  \"Resume Studies\":21,\n",
        "  \"Go to bed\":23\n",
        "}\n",
        "\n",
        "#print(tuple(query.items())[i]][0])\n",
        "\n",
        "while True:\n",
        "    for i in range(0,len(query)):\n",
        "        task=tuple(query.items())[i][0]\n",
        "        y=int(query.get(task))\n",
        "        #print(task)\n",
        "        #print(y)\n",
        "\n",
        "        \n",
        "        if y==int(nowtime):\n",
        "            speak(\"it is,\"+str(nowtime)+\",now\"+str(task))\n",
        "            toaster.show_toast(str(task),\"It is \"+str(nowtime),duration=10) \n",
        "\n",
        "    time.sleep(3600)"
      ],
      "execution_count": null,
      "outputs": []
    }
  ]
}